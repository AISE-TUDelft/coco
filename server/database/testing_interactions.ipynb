{
 "cells": [
  {
   "cell_type": "code",
   "id": "initial_id",
   "metadata": {
    "collapsed": true,
    "ExecuteTime": {
     "end_time": "2024-07-03T09:59:10.254663Z",
     "start_time": "2024-07-03T09:59:09.672624Z"
    }
   },
   "source": "from crud import *",
   "outputs": [
    {
     "name": "stderr",
     "output_type": "stream",
     "text": [
      "C:\\Users\\koohe\\Desktop\\University\\ResearchProjects\\coco-new\\coco\\server\\.venv\\lib\\site-packages\\pydantic\\_internal\\_fields.py:160: UserWarning: Field \"model_id\" has conflict with protected namespace \"model_\".\n",
      "\n",
      "You may be able to resolve this warning by setting `model_config['protected_namespaces'] = ()`.\n",
      "  warnings.warn(\n",
      "C:\\Users\\koohe\\Desktop\\University\\ResearchProjects\\coco-new\\coco\\server\\.venv\\lib\\site-packages\\pydantic\\_internal\\_fields.py:160: UserWarning: Field \"model_name\" has conflict with protected namespace \"model_\".\n",
      "\n",
      "You may be able to resolve this warning by setting `model_config['protected_namespaces'] = ()`.\n",
      "  warnings.warn(\n"
     ]
    }
   ],
   "execution_count": 1
  },
  {
   "metadata": {
    "ExecuteTime": {
     "end_time": "2024-07-03T09:49:52.546302Z",
     "start_time": "2024-07-03T09:49:52.491708Z"
    }
   },
   "cell_type": "code",
   "source": [
    "from sqlalchemy import text\n",
    "from models.CoCoConfig import CoCoConfig\n",
    "from database.database import SessionLocal\n",
    "\n",
    "session = SessionLocal()\n",
    "res = session.execute(text(\"select version()\"))\n",
    "res.fetchone()"
   ],
   "id": "2898d31f20c5db6d",
   "outputs": [
    {
     "data": {
      "text/plain": [
       "('PostgreSQL 16.2, compiled by Visual C++ build 1937, 64-bit',)"
      ]
     },
     "execution_count": 5,
     "metadata": {},
     "output_type": "execute_result"
    }
   ],
   "execution_count": 5
  },
  {
   "metadata": {
    "ExecuteTime": {
     "end_time": "2024-07-03T09:57:21.031161Z",
     "start_time": "2024-07-03T09:57:21.015678Z"
    }
   },
   "cell_type": "code",
   "source": [
    "from datetime import datetime\n",
    "from crud import create_user\n",
    "\n",
    "user_uuid = uuid4()\n",
    "\n",
    "returned_user = create_user(session, UserCreate(\n",
    "    token=str(user_uuid),\n",
    "    joined_at=str(datetime.now())\n",
    "))\n",
    "\n",
    "searched_user = get_user_by_token(session, str(user_uuid))\n",
    "print(searched_user.token)\n",
    "print(searched_user.joined_at)"
   ],
   "id": "441e38083e6439cc",
   "outputs": [
    {
     "name": "stdout",
     "output_type": "stream",
     "text": [
      "f4a36cf9-de68-46e2-9e28-2bc0ef5adb7b\n",
      "2024-07-03 11:57:21.017733+02:00\n"
     ]
    }
   ],
   "execution_count": 8
  }
 ],
 "metadata": {
  "kernelspec": {
   "display_name": "Python 3",
   "language": "python",
   "name": "python3"
  },
  "language_info": {
   "codemirror_mode": {
    "name": "ipython",
    "version": 2
   },
   "file_extension": ".py",
   "mimetype": "text/x-python",
   "name": "python",
   "nbconvert_exporter": "python",
   "pygments_lexer": "ipython2",
   "version": "2.7.6"
  }
 },
 "nbformat": 4,
 "nbformat_minor": 5
}
